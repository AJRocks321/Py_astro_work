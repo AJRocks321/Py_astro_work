{
 "cells": [
  {
   "cell_type": "code",
   "execution_count": 21,
   "id": "2181609b-14e4-4003-a8c9-fcdda11d764e",
   "metadata": {},
   "outputs": [
    {
     "name": "stdin",
     "output_type": "stream",
     "text": [
      "give N 10\n"
     ]
    },
    {
     "name": "stdout",
     "output_type": "stream",
     "text": [
      "577\n",
      "467\n",
      "779\n",
      "979\n",
      "486\n",
      "595\n",
      "715\n",
      "915\n",
      "580\n",
      "838\n"
     ]
    }
   ],
   "source": [
    "#1\n",
    "import random\n",
    "N=int(input(\"give N\"))\n",
    "for i in range(N):\n",
    "    print(random.randint(0,1000))"
   ]
  },
  {
   "cell_type": "code",
   "execution_count": 36,
   "id": "819de1a9-57c3-4dc0-9b6b-bf133cd1f45e",
   "metadata": {},
   "outputs": [
    {
     "name": "stdin",
     "output_type": "stream",
     "text": [
      "give the number to check 3\n"
     ]
    },
    {
     "name": "stdout",
     "output_type": "stream",
     "text": [
      "Yes! found it\n"
     ]
    },
    {
     "data": {
      "text/plain": [
       "True"
      ]
     },
     "execution_count": 36,
     "metadata": {},
     "output_type": "execute_result"
    }
   ],
   "source": [
    "#2\n",
    "mylist=[1,2,3,4,5]\n",
    "M=int(input(\"give the number to check\"))\n",
    "if M in mylist:\n",
    "    print(\"Yes! found it\")\n",
    "else:\n",
    "    print(\"didn't found\")\n",
    "\"a\" in \"Jack\""
   ]
  },
  {
   "cell_type": "code",
   "execution_count": 48,
   "id": "87702649-9cac-4f9e-916b-44de112a38f7",
   "metadata": {},
   "outputs": [
    {
     "name": "stdin",
     "output_type": "stream",
     "text": [
      "Give name of student ajay\n",
      "Give the respective mark 4\n",
      "Give name of student rahul\n",
      "Give the respective mark 5\n",
      "Give name of student mohit\n",
      "Give the respective mark 4\n"
     ]
    },
    {
     "name": "stdout",
     "output_type": "stream",
     "text": [
      "{'ajay': 4, 'rahul': 5, 'mohit': 4}\n"
     ]
    }
   ],
   "source": [
    "#3\n",
    "Dict={}\n",
    "for i in range(3):\n",
    "    name=input(\"Give name of student\")\n",
    "    mark=int(input(\"Give the respective mark\"))\n",
    "    Dict[name]=mark\n",
    "print(Dict)"
   ]
  },
  {
   "cell_type": "code",
   "execution_count": 61,
   "id": "0e799a51-b476-4449-a294-3f66becec002",
   "metadata": {},
   "outputs": [
    {
     "name": "stdin",
     "output_type": "stream",
     "text": [
      "give the number 47\n"
     ]
    },
    {
     "name": "stdout",
     "output_type": "stream",
     "text": [
      "It is a prime\n"
     ]
    }
   ],
   "source": [
    "#4\n",
    "Num=int(input(\"give the number\"))\n",
    "for i in range(2,Num):\n",
    "    if Num%i==0:\n",
    "        print(\"Not a Prime, Divisible by\",i)\n",
    "        break\n",
    "    else:\n",
    "        print(\"It is a prime\")\n",
    "        break"
   ]
  },
  {
   "cell_type": "code",
   "execution_count": 66,
   "id": "c0f127a6-4568-4c69-8638-f1c0c08dc7a1",
   "metadata": {},
   "outputs": [
    {
     "name": "stdin",
     "output_type": "stream",
     "text": [
      "give the name ajay\n"
     ]
    },
    {
     "name": "stdout",
     "output_type": "stream",
     "text": [
      "AJAY\n"
     ]
    }
   ],
   "source": [
    "#5\n",
    "name=input(\"give the name\")\n",
    "print(name.upper())"
   ]
  },
  {
   "cell_type": "code",
   "execution_count": 70,
   "id": "0c01428a-ac5a-45bf-a429-954e6292e249",
   "metadata": {},
   "outputs": [
    {
     "name": "stdout",
     "output_type": "stream",
     "text": [
      "ajay is not a palindrome asdfgfdsa is a palindrome asdffdsa is a palindrome\n"
     ]
    }
   ],
   "source": [
    "#6\n",
    "def ispalindrome(word):\n",
    "    for i in range(len(word)):\n",
    "        if (word[i]!=word[-i-1]):\n",
    "            return word+\" is not a palindrome\"\n",
    "    return word+\" is a palindrome\"\n",
    "print(ispalindrome(\"ajay\"),ispalindrome(\"asdfgfdsa\"),ispalindrome(\"asdffdsa\"))"
   ]
  },
  {
   "cell_type": "code",
   "execution_count": 79,
   "id": "462d512c-6305-43ac-b883-48174b3be848",
   "metadata": {},
   "outputs": [
    {
     "name": "stdout",
     "output_type": "stream",
     "text": [
      "[1]\n",
      "[2, 2]\n",
      "[3, 3, 3]\n",
      "[4, 4, 4, 4]\n",
      "[5, 5, 5, 5, 5]\n"
     ]
    }
   ],
   "source": [
    "#7\n",
    "for i in range(5):\n",
    "    a=[]\n",
    "    for j in range(i+1):\n",
    "        a.append(i+1)\n",
    "    print(a)"
   ]
  },
  {
   "cell_type": "code",
   "execution_count": null,
   "id": "977a712c-4a47-408a-b2fd-85b1263a0743",
   "metadata": {},
   "outputs": [],
   "source": []
  }
 ],
 "metadata": {
  "kernelspec": {
   "display_name": "Python 3 (ipykernel)",
   "language": "python",
   "name": "python3"
  },
  "language_info": {
   "codemirror_mode": {
    "name": "ipython",
    "version": 3
   },
   "file_extension": ".py",
   "mimetype": "text/x-python",
   "name": "python",
   "nbconvert_exporter": "python",
   "pygments_lexer": "ipython3",
   "version": "3.11.4"
  }
 },
 "nbformat": 4,
 "nbformat_minor": 5
}
