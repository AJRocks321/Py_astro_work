{
 "cells": [
  {
   "cell_type": "code",
   "execution_count": 1,
   "id": "d101d507-0f75-47e6-b30f-d988e4d91c50",
   "metadata": {},
   "outputs": [],
   "source": [
    "import math\n"
   ]
  },
  {
   "cell_type": "code",
   "execution_count": 2,
   "id": "e5f22472-3be7-4b9b-ad6e-dc8b018526c4",
   "metadata": {},
   "outputs": [
    {
     "name": "stdout",
     "output_type": "stream",
     "text": [
      "['__doc__', '__loader__', '__name__', '__package__', '__spec__', 'acos', 'acosh', 'asin', 'asinh', 'atan', 'atan2', 'atanh', 'cbrt', 'ceil', 'comb', 'copysign', 'cos', 'cosh', 'degrees', 'dist', 'e', 'erf', 'erfc', 'exp', 'exp2', 'expm1', 'fabs', 'factorial', 'floor', 'fmod', 'frexp', 'fsum', 'gamma', 'gcd', 'hypot', 'inf', 'isclose', 'isfinite', 'isinf', 'isnan', 'isqrt', 'lcm', 'ldexp', 'lgamma', 'log', 'log10', 'log1p', 'log2', 'modf', 'nan', 'nextafter', 'perm', 'pi', 'pow', 'prod', 'radians', 'remainder', 'sin', 'sinh', 'sqrt', 'tan', 'tanh', 'tau', 'trunc', 'ulp']\n"
     ]
    }
   ],
   "source": [
    "print(dir(math))"
   ]
  },
  {
   "cell_type": "code",
   "execution_count": 6,
   "id": "f9e69a60-4139-4902-91f9-22bec6211bab",
   "metadata": {},
   "outputs": [],
   "source": [
    "#help(math.nan)"
   ]
  },
  {
   "cell_type": "code",
   "execution_count": 19,
   "id": "c461dea4-e7ba-43a8-a415-c2748ec3ab6b",
   "metadata": {},
   "outputs": [
    {
     "name": "stdout",
     "output_type": "stream",
     "text": [
      "Ajay is god's hand\n",
      "ajay is a smart and intelligent person,\n",
      "He is a\n",
      "beast at work.\n"
     ]
    }
   ],
   "source": [
    "#Escape sequence \\\n",
    "a='Ajay is god\\'s hand'\n",
    "print(a)\n",
    "#long string\n",
    "b=\"\"\"ajay is a smart and intelligent person,\n",
    "He is a\\nbeast at work.\"\"\"\n",
    "print(b)"
   ]
  },
  {
   "cell_type": "code",
   "execution_count": 26,
   "id": "cadd60ad-27c3-4f5f-a71a-7c6ad74f9157",
   "metadata": {},
   "outputs": [
    {
     "name": "stdout",
     "output_type": "stream",
     "text": [
      "superrrrrrrrman superrrrrrrrsuperrrrrrrrsuperrrrrrrrmanman\n"
     ]
    }
   ],
   "source": [
    "s1=\"superrrrrrrr\"\n",
    "s2=\"man\"\n",
    "print(s1+s2,s1*3+s2*2)"
   ]
  },
  {
   "cell_type": "code",
   "execution_count": 27,
   "id": "a537cbb8-bf4f-4cca-b9fe-79d9c1fcbbd4",
   "metadata": {},
   "outputs": [
    {
     "data": {
      "text/plain": [
       "('u', 'r', 'r')"
      ]
     },
     "execution_count": 27,
     "metadata": {},
     "output_type": "execute_result"
    }
   ],
   "source": [
    "s1[1],s1[4],s1[-1]"
   ]
  },
  {
   "cell_type": "code",
   "execution_count": 28,
   "id": "b3f26f93-2345-4948-85b5-c400fc74c6eb",
   "metadata": {},
   "outputs": [
    {
     "data": {
      "text/plain": [
       "12"
      ]
     },
     "execution_count": 28,
     "metadata": {},
     "output_type": "execute_result"
    }
   ],
   "source": [
    "len(s1)"
   ]
  },
  {
   "cell_type": "code",
   "execution_count": 33,
   "id": "1c257143-3f00-4e5d-add4-3af07698fb56",
   "metadata": {},
   "outputs": [
    {
     "name": "stdout",
     "output_type": "stream",
     "text": [
      "p perrrrrr perrrrrrrr supe\n",
      "uer\n",
      "sprrrr\n",
      "rrrrrrrrepus\n"
     ]
    }
   ],
   "source": [
    "#S[a:b:c] start with ath and end on b-1 th with stepsize of c\n",
    "print(s1[2:3],s1[2:-2],s1[2:],s1[:4])\n",
    "print(s1[1:7:2])\n",
    "print(s1[::2])\n",
    "print(s1[::-1])"
   ]
  },
  {
   "cell_type": "code",
   "execution_count": 37,
   "id": "ae5f5864-f16f-4e4f-a8c8-af8c7b96e923",
   "metadata": {},
   "outputs": [
    {
     "name": "stdout",
     "output_type": "stream",
     "text": [
      " Ajay is a very good boy, eats healthy, works healthy, sleeps healthy.   \n",
      " Ajay is a very good boy, eats healthy, works healthy, sleeps healthy.   \n",
      "[' Ajay is a very good boy', ' eats healthy', ' works healthy', ' sleeps healthy.   ']\n"
     ]
    }
   ],
   "source": [
    "string=\" Ajay is a very good boy, eats healthy, works healthy, sleeps healthy.   \"\n",
    "string.title\n",
    "print(string)\n",
    "string.strip\n",
    "print(string)\n",
    "print(string.split(\",\"))"
   ]
  },
  {
   "cell_type": "code",
   "execution_count": 38,
   "id": "6869d4fb-e464-42b9-8b72-869081324668",
   "metadata": {},
   "outputs": [
    {
     "name": "stdout",
     "output_type": "stream",
     "text": [
      "['__add__', '__class__', '__contains__', '__delattr__', '__dir__', '__doc__', '__eq__', '__format__', '__ge__', '__getattribute__', '__getitem__', '__getnewargs__', '__getstate__', '__gt__', '__hash__', '__init__', '__init_subclass__', '__iter__', '__le__', '__len__', '__lt__', '__mod__', '__mul__', '__ne__', '__new__', '__reduce__', '__reduce_ex__', '__repr__', '__rmod__', '__rmul__', '__setattr__', '__sizeof__', '__str__', '__subclasshook__', 'capitalize', 'casefold', 'center', 'count', 'encode', 'endswith', 'expandtabs', 'find', 'format', 'format_map', 'index', 'isalnum', 'isalpha', 'isascii', 'isdecimal', 'isdigit', 'isidentifier', 'islower', 'isnumeric', 'isprintable', 'isspace', 'istitle', 'isupper', 'join', 'ljust', 'lower', 'lstrip', 'maketrans', 'partition', 'removeprefix', 'removesuffix', 'replace', 'rfind', 'rindex', 'rjust', 'rpartition', 'rsplit', 'rstrip', 'split', 'splitlines', 'startswith', 'strip', 'swapcase', 'title', 'translate', 'upper', 'zfill']\n"
     ]
    }
   ],
   "source": [
    "print(dir(string))"
   ]
  },
  {
   "cell_type": "markdown",
   "id": "af9fcce4-3142-4fa2-843c-aca7fa5b4169",
   "metadata": {},
   "source": [
    "## Lecture 3"
   ]
  },
  {
   "cell_type": "code",
   "execution_count": 48,
   "id": "f7f0d437-6e59-4f6e-a664-2bf3b6d6141d",
   "metadata": {},
   "outputs": [
    {
     "name": "stdin",
     "output_type": "stream",
     "text": [
      "give number: 2\n"
     ]
    },
    {
     "name": "stdout",
     "output_type": "stream",
     "text": [
      "6.0 2.0 2.0 2.0\n"
     ]
    }
   ],
   "source": [
    "a=4\n",
    "b=float(input(\"give number:\"))\n",
    "c,d=a+b,a-b\n",
    "e,f=a/b,a//b\n",
    "print(c,d,e,f)"
   ]
  },
  {
   "cell_type": "code",
   "execution_count": 89,
   "id": "e7b7560c-0c03-4680-b14d-628f4f2bdcd2",
   "metadata": {},
   "outputs": [
    {
     "name": "stdout",
     "output_type": "stream",
     "text": [
      "Sum: 3332.34 diff: 2.00 so this is the answer\n"
     ]
    }
   ],
   "source": [
    "# important string construction\n",
    "num=3332.34243\n",
    "print(\"Sum: %.2f diff: %.2f so %s\"%(num,d,\"this is the answer\"))"
   ]
  },
  {
   "cell_type": "code",
   "execution_count": 92,
   "id": "b3f3e738-288e-4b7e-950a-36b9c2de10b6",
   "metadata": {},
   "outputs": [
    {
     "name": "stdout",
     "output_type": "stream",
     "text": [
      "ajay % good}{\n"
     ]
    }
   ],
   "source": [
    "#raw string\n",
    "string=r\"ajay % good}{\"\n",
    "print(string)"
   ]
  },
  {
   "cell_type": "code",
   "execution_count": 101,
   "id": "3ed7a3b8-963f-4c99-9292-8f4462b7839b",
   "metadata": {},
   "outputs": [
    {
     "name": "stdin",
     "output_type": "stream",
     "text": [
      " 2\n"
     ]
    },
    {
     "name": "stdout",
     "output_type": "stream",
     "text": [
      "2.000000 won\n"
     ]
    }
   ],
   "source": [
    "#conditionals\n",
    "a=float(input())\n",
    "if(a==2):\n",
    "    print(\"%f won\"%a)\n",
    "else:\n",
    "    print(\"lost\")"
   ]
  },
  {
   "cell_type": "code",
   "execution_count": 104,
   "id": "34b2a762-3c75-4596-b8c7-6885e489fd7e",
   "metadata": {},
   "outputs": [
    {
     "data": {
      "text/plain": [
       "[2, 3]"
      ]
     },
     "execution_count": 104,
     "metadata": {},
     "output_type": "execute_result"
    }
   ],
   "source": [
    "listss=[1,2,3,5,\"ajay\"]\n",
    "listss[4][1]\n",
    "listss[1:3]"
   ]
  },
  {
   "cell_type": "code",
   "execution_count": 106,
   "id": "ddf0686e-ff2b-4546-8bec-a14cf6db9171",
   "metadata": {},
   "outputs": [],
   "source": [
    "#list muttable\n",
    "#string immutable"
   ]
  },
  {
   "cell_type": "code",
   "execution_count": 124,
   "id": "6164a107-f237-4847-9520-c250dc8ba1b7",
   "metadata": {},
   "outputs": [
    {
     "name": "stdout",
     "output_type": "stream",
     "text": [
      "[1, 2, 3, 4, 5, 6, 7, 8, 9, 10]\n",
      "[1, 2, 3, 4, 5, 6, 7, 8, 9, 10, 11, 12, 13]\n",
      "[1, 2, 3, 4, 5, 6, 7, 8, 9, 10, 11, 12]\n",
      "[1, 2, 4, 5, 6, 7, 8, 9, 10, 11, 12]\n"
     ]
    }
   ],
   "source": [
    "M=[1,2,3,4,5,6,7,8,9]\n",
    "M.append(10)\n",
    "print(M)\n",
    "M.extend([11,12,13])\n",
    "print(M)\n",
    "M.pop()\n",
    "print(M)\n",
    "M.pop(2)\n",
    "print(M)"
   ]
  },
  {
   "cell_type": "code",
   "execution_count": 125,
   "id": "6e1c7702-ef66-4cfb-9500-8a0d7382a124",
   "metadata": {},
   "outputs": [
    {
     "name": "stdout",
     "output_type": "stream",
     "text": [
      "[1, 2, 4, 5, 6, 7, 8, 9, 10, 11, 12] [1, 2, 4, 5, 6, 7, 8, 9, 10, 11, 12]\n"
     ]
    }
   ],
   "source": [
    "P=M.copy()\n",
    "Q=M[:]\n",
    "M=[1,2,3]\n",
    "print(P,Q)"
   ]
  },
  {
   "cell_type": "code",
   "execution_count": 127,
   "id": "922f80d6-3786-4037-b2a8-bc54100263eb",
   "metadata": {},
   "outputs": [
    {
     "data": {
      "text/plain": [
       "'ajay'"
      ]
     },
     "execution_count": 127,
     "metadata": {},
     "output_type": "execute_result"
    }
   ],
   "source": [
    "D1={\"name\": \"ajay\", \"age\": \"24\"}\n",
    "D1[\"name\"]"
   ]
  },
  {
   "cell_type": "code",
   "execution_count": 136,
   "id": "8678dd46-120a-4db9-b61a-175ba23ede87",
   "metadata": {},
   "outputs": [
    {
     "name": "stdout",
     "output_type": "stream",
     "text": [
      "{1: 'ajay', 2: 'super', 3: 'man'}\n"
     ]
    }
   ],
   "source": [
    "a=[1,2,3]\n",
    "b=['ajay','super','man']\n",
    "d1=dict(zip(a,b))\n",
    "print(d1)"
   ]
  },
  {
   "cell_type": "code",
   "execution_count": 134,
   "id": "f5806fb9-8c5f-47bc-a500-1e6dfddd754e",
   "metadata": {},
   "outputs": [
    {
     "name": "stdout",
     "output_type": "stream",
     "text": [
      "[(1, 'ajay'), (2, 'super'), (3, 'man')]\n"
     ]
    }
   ],
   "source": [
    "print(list(zip(a,b)))"
   ]
  },
  {
   "cell_type": "code",
   "execution_count": 138,
   "id": "a485f218-17f8-4b4f-ba50-42568b5fd275",
   "metadata": {},
   "outputs": [
    {
     "name": "stdout",
     "output_type": "stream",
     "text": [
      "2\n",
      "3\n",
      "4\n"
     ]
    }
   ],
   "source": [
    "a=1\n",
    "while a<4:\n",
    "    a+=1\n",
    "    print(a)"
   ]
  },
  {
   "cell_type": "code",
   "execution_count": 140,
   "id": "48a2b3ba-f0ec-4a48-ade3-d0eaef329039",
   "metadata": {},
   "outputs": [
    {
     "name": "stdout",
     "output_type": "stream",
     "text": [
      "ajay\n",
      "ajay\n",
      "ajay\n",
      "ajay\n",
      "ajay\n",
      "ajay\n"
     ]
    }
   ],
   "source": [
    "while True:\n",
    "    print(\"ajay\")\n",
    "    a+=1\n",
    "    if a==10:\n",
    "        break"
   ]
  },
  {
   "cell_type": "code",
   "execution_count": 141,
   "id": "647c9e7f-a327-43ba-85d2-c34eb1b2e6a7",
   "metadata": {},
   "outputs": [
    {
     "name": "stdout",
     "output_type": "stream",
     "text": [
      "1\n",
      "2\n",
      "3\n",
      "4\n",
      "5\n",
      "6\n",
      "7\n",
      "8\n"
     ]
    }
   ],
   "source": [
    "x=[1,2,3,4,5,6,7,8]\n",
    "for i in x:\n",
    "    print(i)"
   ]
  },
  {
   "cell_type": "code",
   "execution_count": 142,
   "id": "53196fc2-6a99-4a94-8052-5901bc506112",
   "metadata": {},
   "outputs": [
    {
     "name": "stdout",
     "output_type": "stream",
     "text": [
      "1\n",
      "3\n",
      "5\n"
     ]
    }
   ],
   "source": [
    "for i in range(1,6,2):\n",
    "    print(i)"
   ]
  },
  {
   "cell_type": "code",
   "execution_count": 146,
   "id": "7e634ca6-8295-4810-8382-cb57eb84f684",
   "metadata": {},
   "outputs": [
    {
     "name": "stdout",
     "output_type": "stream",
     "text": [
      "1 ajay\n",
      "2 super\n",
      "3 man\n",
      "0 H\n",
      "1 e\n",
      "2 l\n",
      "3 l\n",
      "4 o\n"
     ]
    }
   ],
   "source": [
    "#wicked for loop\n",
    "a=[1,2,3]\n",
    "b=['ajay','super','man']\n",
    "c=zip(a,b)\n",
    "for i,j in c:\n",
    "    print(i,j)\n",
    "A=\"Hello\"\n",
    "#enumerate\n",
    "for i,j in enumerate(A):\n",
    "    print(i,j)"
   ]
  },
  {
   "cell_type": "code",
   "execution_count": 148,
   "id": "2757e2e5-9897-40c6-af1a-26d0068cc29a",
   "metadata": {},
   "outputs": [
    {
     "name": "stdout",
     "output_type": "stream",
     "text": [
      "more than 5 6\n",
      "more than 5 7\n"
     ]
    }
   ],
   "source": [
    "for i in range(1,8):\n",
    "    if i<=5:\n",
    "        continue\n",
    "    print(\"more than 5\",i)\n",
    "    if i==7:\n",
    "        break"
   ]
  },
  {
   "cell_type": "code",
   "execution_count": 156,
   "id": "770a3568-dd41-4b1a-aa3b-066039b13de3",
   "metadata": {},
   "outputs": [
    {
     "name": "stdout",
     "output_type": "stream",
     "text": [
      "dict_items([(1, 'ajay'), (2, 'super'), (3, 'man')]) dict_keys([1, 2, 3]) dict_values(['ajay', 'super', 'man'])\n"
     ]
    }
   ],
   "source": [
    "a=[1,2,3]\n",
    "b=['ajay','super','man']\n",
    "c=dict(zip(a,b))\n",
    "print(c.items(),c.keys(),c.values())"
   ]
  },
  {
   "cell_type": "code",
   "execution_count": 160,
   "id": "f94a3b5f-8807-4ad3-a3b8-17936a011ac6",
   "metadata": {},
   "outputs": [
    {
     "name": "stdout",
     "output_type": "stream",
     "text": [
      "1 ajay\n",
      "2 super\n",
      "3 man\n",
      "ajay\n",
      "super\n",
      "man\n"
     ]
    }
   ],
   "source": [
    "for i, j in c.items():\n",
    "    print(i,j)\n",
    "for i in c.values():\n",
    "    print(i)"
   ]
  },
  {
   "cell_type": "code",
   "execution_count": null,
   "id": "66a22882-1377-41c6-9ec2-cb579f22386e",
   "metadata": {},
   "outputs": [],
   "source": []
  }
 ],
 "metadata": {
  "kernelspec": {
   "display_name": "Python 3 (ipykernel)",
   "language": "python",
   "name": "python3"
  },
  "language_info": {
   "codemirror_mode": {
    "name": "ipython",
    "version": 3
   },
   "file_extension": ".py",
   "mimetype": "text/x-python",
   "name": "python",
   "nbconvert_exporter": "python",
   "pygments_lexer": "ipython3",
   "version": "3.11.4"
  }
 },
 "nbformat": 4,
 "nbformat_minor": 5
}
