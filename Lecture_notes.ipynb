{
 "cells": [
  {
   "cell_type": "code",
   "execution_count": 44,
   "id": "d101d507-0f75-47e6-b30f-d988e4d91c50",
   "metadata": {},
   "outputs": [],
   "source": [
    "import math"
   ]
  },
  {
   "cell_type": "code",
   "execution_count": 45,
   "id": "e5f22472-3be7-4b9b-ad6e-dc8b018526c4",
   "metadata": {},
   "outputs": [
    {
     "name": "stdout",
     "output_type": "stream",
     "text": [
      "['__doc__', '__loader__', '__name__', '__package__', '__spec__', 'acos', 'acosh', 'asin', 'asinh', 'atan', 'atan2', 'atanh', 'cbrt', 'ceil', 'comb', 'copysign', 'cos', 'cosh', 'degrees', 'dist', 'e', 'erf', 'erfc', 'exp', 'exp2', 'expm1', 'fabs', 'factorial', 'floor', 'fmod', 'frexp', 'fsum', 'gamma', 'gcd', 'hypot', 'inf', 'isclose', 'isfinite', 'isinf', 'isnan', 'isqrt', 'lcm', 'ldexp', 'lgamma', 'log', 'log10', 'log1p', 'log2', 'modf', 'nan', 'nextafter', 'perm', 'pi', 'pow', 'prod', 'radians', 'remainder', 'sin', 'sinh', 'sqrt', 'tan', 'tanh', 'tau', 'trunc', 'ulp']\n"
     ]
    }
   ],
   "source": [
    "print(dir(math))"
   ]
  },
  {
   "cell_type": "code",
   "execution_count": 46,
   "id": "f9e69a60-4139-4902-91f9-22bec6211bab",
   "metadata": {},
   "outputs": [],
   "source": [
    "#help(\"math.nan\")"
   ]
  },
  {
   "cell_type": "code",
   "execution_count": 47,
   "id": "c461dea4-e7ba-43a8-a415-c2748ec3ab6b",
   "metadata": {},
   "outputs": [
    {
     "name": "stdout",
     "output_type": "stream",
     "text": [
      "Ajay is god's hand\n",
      "ajay is a smart and intelligent person,\n",
      "He is a\n",
      "beast at work.\n"
     ]
    }
   ],
   "source": [
    "#Escape sequence \\\n",
    "a='Ajay is god\\'s hand'\n",
    "print(a)\n",
    "#long string\n",
    "b=\"\"\"ajay is a smart and intelligent person,\n",
    "He is a\\nbeast at work.\"\"\"\n",
    "print(b)"
   ]
  },
  {
   "cell_type": "code",
   "execution_count": 48,
   "id": "cadd60ad-27c3-4f5f-a71a-7c6ad74f9157",
   "metadata": {},
   "outputs": [
    {
     "name": "stdout",
     "output_type": "stream",
     "text": [
      "superrrrrrrrman superrrrrrrrsuperrrrrrrrsuperrrrrrrrmanman\n"
     ]
    }
   ],
   "source": [
    "s1=\"superrrrrrrr\"\n",
    "s2=\"man\"\n",
    "print(s1+s2,s1*3+s2*2)"
   ]
  },
  {
   "cell_type": "code",
   "execution_count": 49,
   "id": "a537cbb8-bf4f-4cca-b9fe-79d9c1fcbbd4",
   "metadata": {},
   "outputs": [
    {
     "data": {
      "text/plain": [
       "('u', 'r', 'r')"
      ]
     },
     "execution_count": 49,
     "metadata": {},
     "output_type": "execute_result"
    }
   ],
   "source": [
    "s1[1],s1[4],s1[-1]"
   ]
  },
  {
   "cell_type": "code",
   "execution_count": 50,
   "id": "b3f26f93-2345-4948-85b5-c400fc74c6eb",
   "metadata": {},
   "outputs": [
    {
     "data": {
      "text/plain": [
       "12"
      ]
     },
     "execution_count": 50,
     "metadata": {},
     "output_type": "execute_result"
    }
   ],
   "source": [
    "len(s1)"
   ]
  },
  {
   "cell_type": "code",
   "execution_count": 51,
   "id": "1c257143-3f00-4e5d-add4-3af07698fb56",
   "metadata": {},
   "outputs": [
    {
     "name": "stdout",
     "output_type": "stream",
     "text": [
      "p perrrrrr perrrrrrrr supe\n",
      "uer\n",
      "sprrrr\n",
      "rrrrrrrrepus\n"
     ]
    }
   ],
   "source": [
    "#S[a:b:c] start with ath and end on b-1 th with stepsize of c\n",
    "print(s1[2:3],s1[2:-2],s1[2:],s1[:4])\n",
    "print(s1[1:7:2])\n",
    "print(s1[::2])\n",
    "print(s1[::-1])"
   ]
  },
  {
   "cell_type": "code",
   "execution_count": 52,
   "id": "ae5f5864-f16f-4e4f-a8c8-af8c7b96e923",
   "metadata": {},
   "outputs": [
    {
     "name": "stdout",
     "output_type": "stream",
     "text": [
      " Ajay is a very good boy, eats healthy, works healthy, sleeps healthy.   \n",
      " Ajay is a very good boy, eats healthy, works healthy, sleeps healthy.   \n",
      "[' Ajay is a very good boy', ' eats healthy', ' works healthy', ' sleeps healthy.   ']\n"
     ]
    }
   ],
   "source": [
    "string=\" Ajay is a very good boy, eats healthy, works healthy, sleeps healthy.   \"\n",
    "string.title\n",
    "print(string)\n",
    "string.strip\n",
    "print(string)\n",
    "print(string.split(\",\"))"
   ]
  },
  {
   "cell_type": "code",
   "execution_count": 53,
   "id": "6869d4fb-e464-42b9-8b72-869081324668",
   "metadata": {},
   "outputs": [
    {
     "name": "stdout",
     "output_type": "stream",
     "text": [
      "['__add__', '__class__', '__contains__', '__delattr__', '__dir__', '__doc__', '__eq__', '__format__', '__ge__', '__getattribute__', '__getitem__', '__getnewargs__', '__getstate__', '__gt__', '__hash__', '__init__', '__init_subclass__', '__iter__', '__le__', '__len__', '__lt__', '__mod__', '__mul__', '__ne__', '__new__', '__reduce__', '__reduce_ex__', '__repr__', '__rmod__', '__rmul__', '__setattr__', '__sizeof__', '__str__', '__subclasshook__', 'capitalize', 'casefold', 'center', 'count', 'encode', 'endswith', 'expandtabs', 'find', 'format', 'format_map', 'index', 'isalnum', 'isalpha', 'isascii', 'isdecimal', 'isdigit', 'isidentifier', 'islower', 'isnumeric', 'isprintable', 'isspace', 'istitle', 'isupper', 'join', 'ljust', 'lower', 'lstrip', 'maketrans', 'partition', 'removeprefix', 'removesuffix', 'replace', 'rfind', 'rindex', 'rjust', 'rpartition', 'rsplit', 'rstrip', 'split', 'splitlines', 'startswith', 'strip', 'swapcase', 'title', 'translate', 'upper', 'zfill']\n"
     ]
    }
   ],
   "source": [
    "print(dir(string))"
   ]
  },
  {
   "cell_type": "markdown",
   "id": "af9fcce4-3142-4fa2-843c-aca7fa5b4169",
   "metadata": {},
   "source": [
    "## Lecture 3"
   ]
  },
  {
   "cell_type": "code",
   "execution_count": 54,
   "id": "f7f0d437-6e59-4f6e-a664-2bf3b6d6141d",
   "metadata": {},
   "outputs": [
    {
     "name": "stdin",
     "output_type": "stream",
     "text": [
      "give number: 4\n"
     ]
    },
    {
     "name": "stdout",
     "output_type": "stream",
     "text": [
      "8.0 0.0 1.0 1.0\n"
     ]
    }
   ],
   "source": [
    "a=4\n",
    "b=float(input(\"give number:\"))\n",
    "c,d=a+b,a-b\n",
    "e,f=a/b,a//b\n",
    "print(c,d,e,f)"
   ]
  },
  {
   "cell_type": "code",
   "execution_count": 55,
   "id": "e7b7560c-0c03-4680-b14d-628f4f2bdcd2",
   "metadata": {},
   "outputs": [
    {
     "name": "stdout",
     "output_type": "stream",
     "text": [
      "Sum: 3332.34 diff: 0.00 so this is the answer\n"
     ]
    }
   ],
   "source": [
    "# important string construction\n",
    "num=3332.34243\n",
    "print(\"Sum: %.2f diff: %.2f so %s\"%(num,d,\"this is the answer\"))"
   ]
  },
  {
   "cell_type": "code",
   "execution_count": 56,
   "id": "b3f3e738-288e-4b7e-950a-36b9c2de10b6",
   "metadata": {},
   "outputs": [
    {
     "name": "stdout",
     "output_type": "stream",
     "text": [
      "ajay % good}{\n"
     ]
    }
   ],
   "source": [
    "#raw string\n",
    "string=r\"ajay % good}{\"\n",
    "print(string)"
   ]
  },
  {
   "cell_type": "code",
   "execution_count": 59,
   "id": "3ed7a3b8-963f-4c99-9292-8f4462b7839b",
   "metadata": {},
   "outputs": [
    {
     "name": "stdin",
     "output_type": "stream",
     "text": [
      " 5\n"
     ]
    },
    {
     "name": "stdout",
     "output_type": "stream",
     "text": [
      "lost\n"
     ]
    }
   ],
   "source": [
    "#conditionals\n",
    "a=float(input())\n",
    "if(a==2):\n",
    "    print(\"%f won\"%a)\n",
    "else:\n",
    "    print(\"lost\")"
   ]
  },
  {
   "cell_type": "code",
   "execution_count": 60,
   "id": "34b2a762-3c75-4596-b8c7-6885e489fd7e",
   "metadata": {},
   "outputs": [
    {
     "data": {
      "text/plain": [
       "[2, 3]"
      ]
     },
     "execution_count": 60,
     "metadata": {},
     "output_type": "execute_result"
    }
   ],
   "source": [
    "listss=[1,2,3,5,\"ajay\"]\n",
    "listss[4][1]\n",
    "listss[1:3]"
   ]
  },
  {
   "cell_type": "code",
   "execution_count": 61,
   "id": "ddf0686e-ff2b-4546-8bec-a14cf6db9171",
   "metadata": {},
   "outputs": [],
   "source": [
    "#list muttable\n",
    "#string immutable"
   ]
  },
  {
   "cell_type": "code",
   "execution_count": 62,
   "id": "6164a107-f237-4847-9520-c250dc8ba1b7",
   "metadata": {},
   "outputs": [
    {
     "name": "stdout",
     "output_type": "stream",
     "text": [
      "[1, 2, 3, 4, 5, 6, 7, 8, 9, 10]\n",
      "[1, 2, 3, 4, 5, 6, 7, 8, 9, 10, 11, 12, 13]\n",
      "[1, 2, 3, 4, 5, 6, 7, 8, 9, 10, 11, 12]\n",
      "[1, 2, 4, 5, 6, 7, 8, 9, 10, 11, 12]\n"
     ]
    }
   ],
   "source": [
    "M=[1,2,3,4,5,6,7,8,9]\n",
    "M.append(10)\n",
    "print(M)\n",
    "M.extend([11,12,13])\n",
    "print(M)\n",
    "M.pop()\n",
    "print(M)\n",
    "M.pop(2)\n",
    "print(M)"
   ]
  },
  {
   "cell_type": "code",
   "execution_count": 63,
   "id": "6e1c7702-ef66-4cfb-9500-8a0d7382a124",
   "metadata": {},
   "outputs": [
    {
     "name": "stdout",
     "output_type": "stream",
     "text": [
      "[1, 2, 4, 5, 6, 7, 8, 9, 10, 11, 12] [1, 2, 4, 5, 6, 7, 8, 9, 10, 11, 12]\n"
     ]
    }
   ],
   "source": [
    "P=M.copy()\n",
    "Q=M[:]\n",
    "M=[1,2,3]\n",
    "print(P,Q)"
   ]
  },
  {
   "cell_type": "code",
   "execution_count": 64,
   "id": "922f80d6-3786-4037-b2a8-bc54100263eb",
   "metadata": {},
   "outputs": [
    {
     "data": {
      "text/plain": [
       "'ajay'"
      ]
     },
     "execution_count": 64,
     "metadata": {},
     "output_type": "execute_result"
    }
   ],
   "source": [
    "D1={\"name\": \"ajay\", \"age\": \"24\"}\n",
    "D1[\"name\"]"
   ]
  },
  {
   "cell_type": "code",
   "execution_count": 65,
   "id": "8678dd46-120a-4db9-b61a-175ba23ede87",
   "metadata": {},
   "outputs": [
    {
     "name": "stdout",
     "output_type": "stream",
     "text": [
      "{1: 'ajay', 2: 'super', 3: 'man'}\n"
     ]
    }
   ],
   "source": [
    "a=[1,2,3]\n",
    "b=['ajay','super','man']\n",
    "d1=dict(zip(a,b))\n",
    "print(d1)"
   ]
  },
  {
   "cell_type": "code",
   "execution_count": 66,
   "id": "f5806fb9-8c5f-47bc-a500-1e6dfddd754e",
   "metadata": {},
   "outputs": [
    {
     "name": "stdout",
     "output_type": "stream",
     "text": [
      "[(1, 'ajay'), (2, 'super'), (3, 'man')]\n"
     ]
    }
   ],
   "source": [
    "print(list(zip(a,b)))"
   ]
  },
  {
   "cell_type": "code",
   "execution_count": 67,
   "id": "a485f218-17f8-4b4f-ba50-42568b5fd275",
   "metadata": {},
   "outputs": [
    {
     "name": "stdout",
     "output_type": "stream",
     "text": [
      "2\n",
      "3\n",
      "4\n"
     ]
    }
   ],
   "source": [
    "a=1\n",
    "while a<4:\n",
    "    a+=1\n",
    "    print(a)"
   ]
  },
  {
   "cell_type": "code",
   "execution_count": 68,
   "id": "48a2b3ba-f0ec-4a48-ade3-d0eaef329039",
   "metadata": {},
   "outputs": [
    {
     "name": "stdout",
     "output_type": "stream",
     "text": [
      "ajay\n",
      "ajay\n",
      "ajay\n",
      "ajay\n",
      "ajay\n",
      "ajay\n"
     ]
    }
   ],
   "source": [
    "while True:\n",
    "    print(\"ajay\")\n",
    "    a+=1\n",
    "    if a==10:\n",
    "        break"
   ]
  },
  {
   "cell_type": "code",
   "execution_count": 69,
   "id": "647c9e7f-a327-43ba-85d2-c34eb1b2e6a7",
   "metadata": {},
   "outputs": [
    {
     "name": "stdout",
     "output_type": "stream",
     "text": [
      "1\n",
      "2\n",
      "3\n",
      "4\n",
      "5\n",
      "6\n",
      "7\n",
      "8\n"
     ]
    }
   ],
   "source": [
    "x=[1,2,3,4,5,6,7,8]\n",
    "for i in x:\n",
    "    print(i)"
   ]
  },
  {
   "cell_type": "code",
   "execution_count": 70,
   "id": "53196fc2-6a99-4a94-8052-5901bc506112",
   "metadata": {},
   "outputs": [
    {
     "name": "stdout",
     "output_type": "stream",
     "text": [
      "1\n",
      "3\n",
      "5\n"
     ]
    }
   ],
   "source": [
    "for i in range(1,6,2):\n",
    "    print(i)"
   ]
  },
  {
   "cell_type": "code",
   "execution_count": 71,
   "id": "7e634ca6-8295-4810-8382-cb57eb84f684",
   "metadata": {},
   "outputs": [
    {
     "name": "stdout",
     "output_type": "stream",
     "text": [
      "1 ajay\n",
      "2 super\n",
      "3 man\n",
      "0 H\n",
      "1 e\n",
      "2 l\n",
      "3 l\n",
      "4 o\n"
     ]
    }
   ],
   "source": [
    "#wicked for loop\n",
    "a=[1,2,3]\n",
    "b=['ajay','super','man']\n",
    "c=zip(a,b)\n",
    "for i,j in c:\n",
    "    print(i,j)\n",
    "A=\"Hello\"\n",
    "#enumerate\n",
    "for i,j in enumerate(A):\n",
    "    print(i,j)"
   ]
  },
  {
   "cell_type": "code",
   "execution_count": 72,
   "id": "2757e2e5-9897-40c6-af1a-26d0068cc29a",
   "metadata": {},
   "outputs": [
    {
     "name": "stdout",
     "output_type": "stream",
     "text": [
      "more than 5 6\n",
      "more than 5 7\n"
     ]
    }
   ],
   "source": [
    "for i in range(1,8):\n",
    "    if i<=5:\n",
    "        continue\n",
    "    print(\"more than 5\",i)\n",
    "    if i==7:\n",
    "        break"
   ]
  },
  {
   "cell_type": "code",
   "execution_count": 73,
   "id": "770a3568-dd41-4b1a-aa3b-066039b13de3",
   "metadata": {},
   "outputs": [
    {
     "name": "stdout",
     "output_type": "stream",
     "text": [
      "dict_items([(1, 'ajay'), (2, 'super'), (3, 'man')]) dict_keys([1, 2, 3]) dict_values(['ajay', 'super', 'man'])\n"
     ]
    }
   ],
   "source": [
    "a=[1,2,3]\n",
    "b=['ajay','super','man']\n",
    "c=dict(zip(a,b))\n",
    "print(c.items(),c.keys(),c.values())"
   ]
  },
  {
   "cell_type": "code",
   "execution_count": 74,
   "id": "f94a3b5f-8807-4ad3-a3b8-17936a011ac6",
   "metadata": {},
   "outputs": [
    {
     "name": "stdout",
     "output_type": "stream",
     "text": [
      "1 ajay\n",
      "2 super\n",
      "3 man\n",
      "ajay\n",
      "super\n",
      "man\n"
     ]
    }
   ],
   "source": [
    "for i, j in c.items():\n",
    "    print(i,j)\n",
    "for i in c.values():\n",
    "    print(i)"
   ]
  },
  {
   "cell_type": "markdown",
   "id": "90034c6e-6a6f-4ef6-9795-3986e57e72ab",
   "metadata": {},
   "source": [
    "## Lecture 4"
   ]
  },
  {
   "cell_type": "code",
   "execution_count": 75,
   "id": "3b8f7fe9-519e-42fd-b508-245aa132697d",
   "metadata": {},
   "outputs": [],
   "source": [
    "import sys #to use CMD arguments\n",
    "import os #used to check file existence"
   ]
  },
  {
   "cell_type": "markdown",
   "id": "83892998-9e35-4d27-91cc-2c255a39d9d8",
   "metadata": {},
   "source": [
    "#takes arguments from cmd line\n",
    "if len(sys.argv)==2:\n",
    "    infile_name=sys.argv[1]\n",
    "else:\n",
    "    print (\"Oops! Incorrect number of arguments.\")\n",
    "    sys.exit(2)\n",
    "#checks if the file exists\n",
    "if not os.path.isfile(infile_name):\n",
    "    print(\"File doesn't exist.\")\n",
    "    sys.exit(3)"
   ]
  },
  {
   "cell_type": "code",
   "execution_count": 76,
   "id": "5ab367d3-63fb-47d4-a451-e129cffa758d",
   "metadata": {},
   "outputs": [],
   "source": [
    "#takes arguments from cmd line\n",
    "infile_name='filename.txt'\n",
    "infile=open(infile_name,\"r\")\n",
    "\n",
    "#now to create an output file in .sp format\n",
    "outfile=open(infile_name+\".sp\",\"w\")\n",
    "\n",
    "for line in infile.readlines():\n",
    "    line=line+\"\\n\"\n",
    "    outfile.write(line)\n",
    "outfile.close()\n",
    "infile.close()\n"
   ]
  },
  {
   "cell_type": "code",
   "execution_count": 77,
   "id": "5c74f7c9-3187-41dc-855a-e28c132595f5",
   "metadata": {},
   "outputs": [
    {
     "name": "stdout",
     "output_type": "stream",
     "text": [
      "6 -2\n"
     ]
    }
   ],
   "source": [
    "def myfun(a,b):\n",
    "    return a+b,a-b\n",
    "\n",
    "p,q=myfun(2,4)\n",
    "print(p,q)"
   ]
  },
  {
   "cell_type": "code",
   "execution_count": 78,
   "id": "1491c9a6-c507-485e-9933-7f0ac9171471",
   "metadata": {},
   "outputs": [
    {
     "name": "stdout",
     "output_type": "stream",
     "text": [
      "have a good day\n",
      "water\n"
     ]
    }
   ],
   "source": [
    "#canm change arguments orset a default one\n",
    "def request(message=\"have a good day\"):\n",
    "    print(message)\n",
    "request()\n",
    "request(\"water\")"
   ]
  },
  {
   "cell_type": "code",
   "execution_count": 79,
   "id": "4a15c36f-52a7-45f1-8dda-c8cd98253028",
   "metadata": {},
   "outputs": [
    {
     "data": {
      "text/plain": [
       "(15, 'ajay')"
      ]
     },
     "execution_count": 79,
     "metadata": {},
     "output_type": "execute_result"
    }
   ],
   "source": [
    "#multiple values using *\n",
    "def sumitall(name,*val):\n",
    "    total=0\n",
    "    for i in val:\n",
    "        total=total+i\n",
    "    return total,name\n",
    "sumitall(\"ajay\",1,2,3,4,5)"
   ]
  },
  {
   "cell_type": "code",
   "execution_count": 80,
   "id": "a24c9955-8289-4206-be47-5a36e5b1993e",
   "metadata": {},
   "outputs": [],
   "source": [
    "#MODULES\n",
    "import math\n",
    "#from math import * dangerous dont do it\n",
    "#radians(45)\n",
    "from math import sin\n",
    "sin(math.pi)\n",
    "import numpy as np\n",
    "np.array([1,2,3])\n",
    "import matplotlib.pyplot as plt"
   ]
  },
  {
   "cell_type": "markdown",
   "id": "5158925a-b393-48af-804a-10d5d9708e74",
   "metadata": {},
   "source": [
    "## Lecture 5"
   ]
  },
  {
   "cell_type": "code",
   "execution_count": 81,
   "id": "154fa0ee-b24d-486b-98a1-247c7757a430",
   "metadata": {},
   "outputs": [
    {
     "ename": "AssertionError",
     "evalue": "string not given",
     "output_type": "error",
     "traceback": [
      "\u001b[1;31m---------------------------------------------------------------------------\u001b[0m",
      "\u001b[1;31mAssertionError\u001b[0m                            Traceback (most recent call last)",
      "Cell \u001b[1;32mIn[81], line 3\u001b[0m\n\u001b[0;32m      1\u001b[0m \u001b[38;5;66;03m#to give Assertion error\u001b[39;00m\n\u001b[0;32m      2\u001b[0m L\u001b[38;5;241m=\u001b[39m\u001b[38;5;241m5\u001b[39m\n\u001b[1;32m----> 3\u001b[0m \u001b[38;5;28;01massert\u001b[39;00m \u001b[38;5;28mtype\u001b[39m(L) \u001b[38;5;129;01mis\u001b[39;00m \u001b[38;5;28mtype\u001b[39m(\u001b[38;5;124m\"\u001b[39m\u001b[38;5;124m\"\u001b[39m), \u001b[38;5;124m\"\u001b[39m\u001b[38;5;124mstring not given\u001b[39m\u001b[38;5;124m\"\u001b[39m\n\u001b[0;32m      4\u001b[0m \u001b[38;5;28;01massert\u001b[39;00m L\u001b[38;5;241m>\u001b[39m\u001b[38;5;241m10\u001b[39m, \u001b[38;5;124m\"\u001b[39m\u001b[38;5;124mNot enough data points\u001b[39m\u001b[38;5;124m\"\u001b[39m\n",
      "\u001b[1;31mAssertionError\u001b[0m: string not given"
     ]
    }
   ],
   "source": [
    "#to give Assertion error\n",
    "L=5\n",
    "assert type(L) is type(\"\"), \"string not given\"\n",
    "assert L>10, \"Not enough data points\""
   ]
  },
  {
   "cell_type": "code",
   "execution_count": 103,
   "id": "a8e9b405-3b31-42ca-86d4-4fa037306baf",
   "metadata": {},
   "outputs": [
    {
     "name": "stdout",
     "output_type": "stream",
     "text": [
      "0 divisor\n"
     ]
    }
   ],
   "source": [
    "#Exception handling with try except\n",
    "#multiple except\n",
    "a=3\n",
    "b=0\n",
    "try:\n",
    "    a/b\n",
    "except ZeroDivisionError:\n",
    "    print(\"0 divisor\")"
   ]
  },
  {
   "cell_type": "code",
   "execution_count": 84,
   "id": "d10049bf-f4ea-45fa-b960-d55ddfd611d3",
   "metadata": {},
   "outputs": [
    {
     "name": "stdout",
     "output_type": "stream",
     "text": [
      "ajay is a good boy\n",
      "\n",
      "and a great man\n",
      "\n",
      "\n",
      "\n"
     ]
    }
   ],
   "source": [
    "#mandatory step adding by finally\n",
    "readdata=open(\"filename.txt\",\"r\")\n",
    "try:\n",
    "    #do something\n",
    "    for i in readdata:\n",
    "        print(i)\n",
    "finally:\n",
    "    readdata.close()"
   ]
  },
  {
   "cell_type": "code",
   "execution_count": 85,
   "id": "69e67884-a66b-4112-8692-0f8d42e1de04",
   "metadata": {},
   "outputs": [
    {
     "name": "stdout",
     "output_type": "stream",
     "text": [
      "File not found\n"
     ]
    }
   ],
   "source": [
    "try:\n",
    "    readdata=open(\"filenamddde.txt\",\"r\")\n",
    "except FileNotFoundError:\n",
    "    print(\"File not found\")"
   ]
  },
  {
   "cell_type": "code",
   "execution_count": 88,
   "id": "8651deeb-3a52-42d1-beb1-c323c8179d36",
   "metadata": {},
   "outputs": [],
   "source": [
    "#with function closes file itself, no need to file.close\n",
    "with open(\"filename.txt\",\"w\") as file:\n",
    "    file.write(\"Hello World\")"
   ]
  },
  {
   "cell_type": "code",
   "execution_count": 89,
   "id": "9958113b-04ce-4bff-a48a-d36977845cac",
   "metadata": {},
   "outputs": [],
   "source": [
    "#Local and Global Variables"
   ]
  },
  {
   "cell_type": "code",
   "execution_count": 92,
   "id": "29fad7bb-fd51-4584-ae12-8d92822950a5",
   "metadata": {},
   "outputs": [],
   "source": [
    "#Naming the function : FUNCTION SCOPE\n",
    "#L: function's local scope\n",
    "#E: scope of Enclossing functions\n",
    "#G: scope of Global functions\n",
    "#B: Builtin scope\n",
    "# Don't put same names"
   ]
  },
  {
   "cell_type": "code",
   "execution_count": 98,
   "id": "3ac2b13c-bbdd-4375-a37c-b2bdfa9a660e",
   "metadata": {},
   "outputs": [
    {
     "name": "stdout",
     "output_type": "stream",
     "text": [
      "local x\n",
      "global x\n"
     ]
    }
   ],
   "source": [
    "def F():\n",
    "    global x\n",
    "    x=\"local x\"\n",
    "    print(x)\n",
    "F()\n",
    "x=\"global x\"\n",
    "print(x)"
   ]
  },
  {
   "cell_type": "code",
   "execution_count": 99,
   "id": "e2f14a7c-a57a-43bc-9ab1-20e5ed7e2e11",
   "metadata": {},
   "outputs": [],
   "source": [
    "#Immutable and Mutable passing rules for functions\n",
    "#u can change or extend elemnts in a list using a function and it will change it globally\n",
    "#but flot values are immutable for functions"
   ]
  },
  {
   "cell_type": "code",
   "execution_count": 100,
   "id": "226bd6f8-6755-408c-9243-9fbeb0988a57",
   "metadata": {},
   "outputs": [],
   "source": [
    "#del a\n",
    "#del A[4:]"
   ]
  },
  {
   "cell_type": "code",
   "execution_count": 101,
   "id": "a278e48a-4163-4f19-81e7-7801afde85a7",
   "metadata": {},
   "outputs": [],
   "source": [
    "#RESERVED WORDS!= Variable name"
   ]
  },
  {
   "cell_type": "code",
   "execution_count": 104,
   "id": "f2d207c1-1877-423e-8e60-f47e54e72290",
   "metadata": {},
   "outputs": [
    {
     "name": "stdout",
     "output_type": "stream",
     "text": [
      "True False\n"
     ]
    }
   ],
   "source": [
    "a=5.0\n",
    "b=5\n",
    "print(a==b,a is b)"
   ]
  },
  {
   "cell_type": "markdown",
   "id": "ea6f982f-d59f-4511-b71e-a1a99493fdea",
   "metadata": {},
   "source": [
    "## Lecture 6"
   ]
  },
  {
   "cell_type": "code",
   "execution_count": 2,
   "id": "c5931098-ab19-4283-ac5c-23d1d175eaae",
   "metadata": {},
   "outputs": [
    {
     "name": "stdout",
     "output_type": "stream",
     "text": [
      "[0, 2, 4, 6, 8, 10, 12, 14, 16, 18, 20, 22, 24, 26, 28] \n",
      " [(0, 0), (0, 1), (0, 2), (1, 0), (1, 1), (1, 2), (2, 0), (2, 1), (2, 2)]\n"
     ]
    }
   ],
   "source": [
    "#list comprehension\n",
    "mylist=[i for i in range(30) if i%2==0]\n",
    "mylist2=[(i,j) for i in range(3) for j in range(3)]\n",
    "print(mylist,\"\\n\",mylist2)"
   ]
  },
  {
   "cell_type": "code",
   "execution_count": 3,
   "id": "e5fccf7f-4ca9-4eb2-bd43-2385ac197521",
   "metadata": {},
   "outputs": [
    {
     "name": "stdout",
     "output_type": "stream",
     "text": [
      "int32 int32\n",
      "float64 float64 complex128\n",
      "[5 7 9] [-3 -3 -3] [ 4 10 18] [0.25 0.4  0.5 ] [1 2 3] [1 4 9]\n"
     ]
    }
   ],
   "source": [
    "import numpy as np\n",
    "L1=[1,2,3]\n",
    "L2=[4,5,6]\n",
    "L3=[1j,2j+1,3j]\n",
    "A1=np.array(L1)\n",
    "A2=np.array(L2)\n",
    "print(A1.dtype,A2.dtype)\n",
    "B1=np.array(L1, float)\n",
    "B2=np.array(L2, float)\n",
    "C1=np.array(L3, complex)\n",
    "print(B1.dtype,B2.dtype,C1.dtype)\n",
    "print(A1+A2,A1-A2,A1*A2,A1/A2,A1%A2,A1**2)\n",
    "\n",
    "#there can be many operations, in numpyu array all elements must be of same data types, u can specify or python can detect itself."
   ]
  },
  {
   "cell_type": "code",
   "execution_count": 4,
   "id": "e5d544db-7e80-4365-b2ba-89f14f48c3d4",
   "metadata": {},
   "outputs": [
    {
     "name": "stdout",
     "output_type": "stream",
     "text": [
      "[ 10 100]\n",
      "[ True False]\n"
     ]
    }
   ],
   "source": [
    "import numpy as np\n",
    "np.bool = np.bool_\n",
    "#there can be different datatypes,\n",
    "#Defining ur own datatypes,\n",
    "dt=np.dtype([(\"value\",np.int32),(\"status\",np.bool)])\n",
    "\n",
    "arr=np.array([(10,True),(100,False)],dt)\n",
    "print(arr['value'])\n",
    "print(arr[\"status\"])"
   ]
  },
  {
   "cell_type": "code",
   "execution_count": 5,
   "id": "7eb84a11-f832-4ddf-82ae-8b131695f989",
   "metadata": {},
   "outputs": [
    {
     "name": "stdout",
     "output_type": "stream",
     "text": [
      "[5 6]\n",
      "(2, 3) 2 6\n"
     ]
    }
   ],
   "source": [
    "#elements calling\n",
    "arr=np.array([[1,2,3],[4,5,6]])\n",
    "arr[1][2]\n",
    "arr[1,2]# only works with arrays\n",
    "print(arr[1,1:])\n",
    "#few important functions\n",
    "print(arr.shape,arr.ndim,arr.size)"
   ]
  },
  {
   "cell_type": "code",
   "execution_count": 6,
   "id": "9aa5b69f-03be-4611-9c31-c8995f036ee4",
   "metadata": {},
   "outputs": [
    {
     "name": "stdout",
     "output_type": "stream",
     "text": [
      "[0. 0. 0. 0. 0. 0. 0. 0. 0. 0.] [1. 1. 1. 1. 1. 1. 1. 1. 1. 1.] [nan  0.  0.  0.  0.  0.  0.  0.  0.  0.]\n",
      "[[1. 1. 1. 1. 1.]\n",
      " [1. 1. 1. 1. 1.]\n",
      " [1. 1. 1. 1. 1.]\n",
      " [1. 1. 1. 1. 1.]\n",
      " [1. 1. 1. 1. 1.]]\n"
     ]
    }
   ],
   "source": [
    "#convinience functions\n",
    "arr1=np.zeros(10)\n",
    "arr2=np.ones(10)\n",
    "arr3=np.empty(10)\n",
    "arr4=np.ones( (5,5) )# creating by specifying dimensions\n",
    "print(arr1,arr2,arr3)\n",
    "print(arr4)"
   ]
  },
  {
   "cell_type": "code",
   "execution_count": 7,
   "id": "14635adf-e1ec-4dc9-96c6-2f249b5a9274",
   "metadata": {},
   "outputs": [
    {
     "name": "stdout",
     "output_type": "stream",
     "text": [
      "[ 0.  1.  2.  3.  4.  5.  6.  7.  8.  9. 10.]\n",
      "[0 1 2 3 4 5 6 7 8 9]\n",
      "[1.00000000e+00 1.77827941e+01 3.16227766e+02 5.62341325e+03\n",
      " 1.00000000e+05 1.77827941e+06 3.16227766e+07 5.62341325e+08\n",
      " 1.00000000e+10]\n"
     ]
    }
   ],
   "source": [
    "#convinient functions\n",
    "arr5=np.linspace(0,10,11)#(start,end,number of elements(total divisions+1))\n",
    "print(arr5)\n",
    "arr6=np.arange(0,10,1)#(start, max, stepsize)#unreliable\n",
    "print(arr6)\n",
    "arr7=np.logspace(0,10,9)\n",
    "print(arr7)\n",
    "#example\n",
    "x=np.linspace(0,3.14,100)# for plotting sin function\n"
   ]
  },
  {
   "cell_type": "code",
   "execution_count": 8,
   "id": "d5421472-cc87-4cb1-bf19-e8227438e899",
   "metadata": {},
   "outputs": [
    {
     "name": "stdout",
     "output_type": "stream",
     "text": [
      "[0. 0. 0. 0. 0.]\n",
      "[0. 0. 1. 1. 0.]\n",
      "[[0. 0. 1. 1. 0.]\n",
      " [0. 0. 1. 1. 0.]\n",
      " [0. 0. 1. 1. 0.]\n",
      " [0. 0. 1. 1. 0.]\n",
      " [0. 0. 0. 0. 0.]]\n"
     ]
    }
   ],
   "source": [
    "#slicing\n",
    "#a[3,...] reads as many :, needed do it> a[,:,:,:,:]\n",
    "arr8=np.zeros((5,5))\n",
    "arr8[0:4,2:4]=1\n",
    "print(arr8[:,1])#Column 1\n",
    "print(arr8[0,:])#Row 1\n",
    "print(arr8)"
   ]
  },
  {
   "cell_type": "markdown",
   "id": "37ed206d-80b8-4ae9-8a61-02271e55f4f5",
   "metadata": {},
   "source": [
    "#different ways to load data and use using numpy.\n",
    "fname=\"myfile.txt\"\n",
    "data=np.loadtxt(fname,delimiter=\"/\",comments=\"!\",skiprows=3)#default delimiter is space, default comment is #\n",
    "data2=np.loadtext(fname)\n",
    "c24=np.loadtxt(fname,usecols=(1,3))#toselect columns\n",
    "n,m,y=np.loadtxt(fname,unpack=True)\n",
    "n,m=np.loadtxt(fname,usecols=(1,3),unpack=True)\n",
    "\n",
    "np.savetxt(\"results.dat\",.....)"
   ]
  },
  {
   "cell_type": "code",
   "execution_count": 22,
   "id": "b06abf40-b0dc-4e22-b5cf-5a10bd86c9e1",
   "metadata": {},
   "outputs": [
    {
     "name": "stdout",
     "output_type": "stream",
     "text": [
      "[0 1 2 3 4 5 6 7 8 9]\n"
     ]
    }
   ],
   "source": [
    "#Saving loading binary data\n",
    "data1=np.arange(10)\n",
    "data2=np.arange(20)\n",
    "np.savez('docs',x=data1,y=data2)#saves in z format\n",
    "myarr=np.load(\"docs.npz\")# unpacks it itself\n",
    "print(myarr[\"x\"])"
   ]
  },
  {
   "cell_type": "code",
   "execution_count": 30,
   "id": "527a50a6-6291-4558-a46b-9df19237d2f4",
   "metadata": {},
   "outputs": [
    {
     "data": {
      "text/plain": [
       "array([[ 0,  1,  2,  3,  4,  5,  6,  7,  8,  9],\n",
       "       [10, 11, 12, 13, 14, 15, 16, 17, 18, 19],\n",
       "       [20, 21, 22, 23, 24, 25, 26, 27, 28, 29],\n",
       "       [30, 31, 32, 33, 34, 35, 36, 37, 38, 39],\n",
       "       [40, 41, 42, 43, 44, 45, 46, 47, 48, 49],\n",
       "       [50, 51, 52, 53, 54, 55, 56, 57, 58, 59],\n",
       "       [60, 61, 62, 63, 64, 65, 66, 67, 68, 69],\n",
       "       [70, 71, 72, 73, 74, 75, 76, 77, 78, 79],\n",
       "       [80, 81, 82, 83, 84, 85, 86, 87, 88, 89],\n",
       "       [90, 91, 92, 93, 94, 95, 96, 97, 98, 99]])"
      ]
     },
     "execution_count": 30,
     "metadata": {},
     "output_type": "execute_result"
    }
   ],
   "source": []
  },
  {
   "cell_type": "code",
   "execution_count": 56,
   "id": "09ec799e-9a52-46c7-b648-08e59a2d167d",
   "metadata": {},
   "outputs": [
    {
     "data": {
      "text/plain": [
       "<matplotlib.image.AxesImage at 0x1f631eddd90>"
      ]
     },
     "execution_count": 56,
     "metadata": {},
     "output_type": "execute_result"
    },
    {
     "data": {
      "image/png": "[encoded data removed]",
      "text/plain": [
       "<Figure size 640x480 with 1 Axes>"
      ]
     },
     "metadata": {},
     "output_type": "display_data"
    }
   ],
   "source": [
    "import matplotlib.pyplot as plt\n",
    "x=np.arange(100).reshape(10,10)\n",
    "plt.imshow(x,interpolation=\"none\")"
   ]
  },
  {
   "cell_type": "code",
   "execution_count": 57,
   "id": "3ffbe20b-942b-4d87-835e-5f09313507f7",
   "metadata": {},
   "outputs": [
    {
     "data": {
      "text/plain": [
       "<matplotlib.colorbar.Colorbar at 0x1f6332c7690>"
      ]
     },
     "execution_count": 57,
     "metadata": {},
     "output_type": "execute_result"
    },
    {
     "data": {
      "image/png": "[encoded data removed]",
      "text/plain": [
       "<Figure size 640x480 with 2 Axes>"
      ]
     },
     "metadata": {},
     "output_type": "display_data"
    }
   ],
   "source": [
    "#NUMPY WHERE function\n",
    "#np.where most important, np.logical_and is used in doing and operation in arrays\n",
    "x[np.where(np.logical_and(x>50,x<75))]=99\n",
    "plt.imshow(x,interpolation=\"none\")\n",
    "plt.colorbar()"
   ]
  },
  {
   "cell_type": "code",
   "execution_count": 59,
   "id": "d8cadf34-2e0c-4e41-90d9-e38de52eae18",
   "metadata": {},
   "outputs": [
    {
     "name": "stdout",
     "output_type": "stream",
     "text": [
      "[1 3 4 3 -- -- -- -- -- 5]\n",
      "2.0 3.2\n"
     ]
    }
   ],
   "source": [
    "#MASKED ARRAYS\n",
    "#0 that element is not masked\n",
    "#1 that element is masked\n",
    "import numpy.ma as ma\n",
    "x=np.array([1,3,4,3,2,6,-6,5,-3,5])\n",
    "mx=ma.masked_array(x,mask=[0,0,0,0,1,1,1,1,1,0])\n",
    "print(mx)\n",
    "print(x.mean(),mx.mean())"
   ]
  },
  {
   "cell_type": "code",
   "execution_count": 66,
   "id": "c3f7edce-e4a4-4de5-8062-956152bbd70c",
   "metadata": {},
   "outputs": [
    {
     "name": "stdout",
     "output_type": "stream",
     "text": [
      "[1 3 4 3 2 6 -- 5 -- 5]\n"
     ]
    }
   ],
   "source": [
    "#masked with where\n",
    "y=ma.masked_where(x<0,x)\n",
    "print(y)"
   ]
  },
  {
   "cell_type": "code",
   "execution_count": 68,
   "id": "66bb06f0-7e56-452c-8375-e1f1655a1a5c",
   "metadata": {},
   "outputs": [
    {
     "data": {
      "text/plain": [
       "4950"
      ]
     },
     "execution_count": 68,
     "metadata": {},
     "output_type": "execute_result"
    }
   ],
   "source": [
    "a=np.arange(100)\n",
    "np.sum(a)#Functional programming\n",
    "a.sum()#Object oriented programming"
   ]
  },
  {
   "cell_type": "code",
   "execution_count": 83,
   "id": "bd1d0c84-3445-4ce4-9141-1d8553461818",
   "metadata": {},
   "outputs": [
    {
     "data": {
      "text/plain": [
       "<matplotlib.image.AxesImage at 0x1f633467c90>"
      ]
     },
     "execution_count": 83,
     "metadata": {},
     "output_type": "execute_result"
    },
    {
     "data": {
      "image/png": "[encoded data removed]",
      "text/plain": [
       "<Figure size 640x480 with 1 Axes>"
      ]
     },
     "metadata": {},
     "output_type": "display_data"
    }
   ],
   "source": [
    "#HISTOGRAMS\n",
    "x,y=np.random.randn(2,100000)\n",
    "H, xedges, yedges = np.histogram2d(x,y, bins=50)\n",
    "extent = [xedges[0], xedges[-1], yedges[0], yedges[-1]]\n",
    "plt.imshow(H,extent=extent)"
   ]
  },
  {
   "cell_type": "code",
   "execution_count": 94,
   "id": "038d87f0-d25a-43bd-8f72-538a6ebffbcd",
   "metadata": {},
   "outputs": [
    {
     "name": "stdout",
     "output_type": "stream",
     "text": [
      "[1 4 9] [[2. 4. 6.]]\n"
     ]
    },
    {
     "data": {
      "text/plain": [
       "array([[0.5, 0. , 0. ],\n",
       "       [0. , 0.5, 0. ],\n",
       "       [0. , 0. , 0.5]])"
      ]
     },
     "execution_count": 94,
     "metadata": {},
     "output_type": "execute_result"
    }
   ],
   "source": [
    "#MATRIX OPERATIONS\n",
    "x1=np.array([1,2,3])\n",
    "x2=np.matrix(x1)\n",
    "A=2*np.identity(3)\n",
    "print(x1*x1,x2*A)# matrix multiplication\n",
    "np.linalg.inv(A)"
   ]
  },
  {
   "cell_type": "code",
   "execution_count": null,
   "id": "fade739b-a92f-49f8-a5a3-18e0ef308173",
   "metadata": {},
   "outputs": [],
   "source": []
  }
 ],
 "metadata": {
  "kernelspec": {
   "display_name": "Python 3 (ipykernel)",
   "language": "python",
   "name": "python3"
  },
  "language_info": {
   "codemirror_mode": {
    "name": "ipython",
    "version": 3
   },
   "file_extension": ".py",
   "mimetype": "text/x-python",
   "name": "python",
   "nbconvert_exporter": "python",
   "pygments_lexer": "ipython3",
   "version": "3.11.4"
  }
 },
 "nbformat": 4,
 "nbformat_minor": 5
}
